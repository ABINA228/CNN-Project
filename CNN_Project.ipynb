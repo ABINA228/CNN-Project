{
  "nbformat": 4,
  "nbformat_minor": 0,
  "metadata": {
    "colab": {
      "name": "CNN_Project.ipynb",
      "provenance": [],
      "collapsed_sections": []
    },
    "kernelspec": {
      "name": "python3",
      "display_name": "Python 3"
    },
    "language_info": {
      "name": "python"
    }
  },
  "cells": [
    {
      "cell_type": "code",
      "metadata": {
        "colab": {
          "base_uri": "https://localhost:8080/"
        },
        "id": "uvEw5EKgOS6d",
        "outputId": "24122edc-4f69-4979-e8df-f7b1a83c3323"
      },
      "source": [
        "!pip install keras-tuner\n",
        "\n",
        "import tensorflow as tf\n",
        "from tensorflow import keras\n",
        "import numpy as np\n",
        "\n",
        "fashion_mnist=keras.datasets.fashion_mnist\n",
        "\n",
        "(train_images,train_labels),(test_images,test_labels)=fashion_mnist.load_data()\n",
        "\n",
        "train_images=train_images/255.0\n",
        "test_images=test_images/255.0\n",
        "\n",
        "train_images[0].shape\n",
        "\n",
        "train_images = train_images.reshape(len(train_images),28,28,1)\n",
        "test_images = test_images.reshape(len(test_images),28,28,1)\n",
        "\n",
        "\n",
        "def build_model(hp):\n",
        "   model = keras.Sequential([\n",
        "                             keras.layers.Conv2D(\n",
        "                                 filters=hp.Int('conv_1_filter', min_value=32, max_value=128, step=16),\n",
        "                                 kernel_size=hp.Choice('conv_1_kernal',values = [3,5]),\n",
        "                                 activation='relu',\n",
        "                                 input_shape=(28,28,1)\n",
        "                             ),\n",
        "                              keras.layers.Conv2D(\n",
        "                                  filters=hp.Int('conv_2__filter', min_value=32, max_value=64, step=16),\n",
        "                                  kernel_size=hp.Choice('conv_2_kernal',values = [3,5]),\n",
        "                                   activation='relu'\n",
        "                              ),\n",
        "                             keras.layers.Flatten(),\n",
        "                             keras.layers.Dense(\n",
        "                                  units=hp.Int('Dense_1_units', min_value=32, max_value=128, step=16),\n",
        "                                  activation='relu'\n",
        "                             ),\n",
        "                              keras.layers.Dense(10, activation='softmax')#output layer\n",
        "   ])\n",
        "   model.compile(optimizer=keras.optimizers.Adam(hp.Choice('learning_rate',values=[1e-2, 1e-3])),\n",
        "                 loss='sparse_categorical_crossentropy',\n",
        "                 metrics=['accuracy'])\n",
        "   return model\n",
        "\n",
        "from kerastuner import RandomSearch\n",
        "from kerastuner.engine.hyperparameters import HyperParameters\n",
        "\n",
        "tuner_search=RandomSearch(build_model,\n",
        "                              objective='val_accuracy',\n",
        "                              max_trials=5,directory='output',project_name=\"Mnist Fashion\")\n",
        "    \n",
        "tuner_search.search(train_images,train_labels,epochs=3,validation_split=0.1)\n",
        "\n",
        "model=tuner_search.get_best_models(num_models=1)[0]\n",
        "\n",
        "model.summary()\n",
        "                         "
      ],
      "execution_count": 4,
      "outputs": [
        {
          "output_type": "stream",
          "text": [
            "Trial 4 Complete [00h 26m 22s]\n",
            "val_accuracy: 0.8983333110809326\n",
            "\n",
            "Best val_accuracy So Far: 0.9153333306312561\n",
            "Total elapsed time: 00h 49m 06s\n",
            "INFO:tensorflow:Oracle triggered exit\n",
            "WARNING:tensorflow:Unresolved object in checkpoint: (root).optimizer.iter\n",
            "WARNING:tensorflow:Unresolved object in checkpoint: (root).optimizer.beta_1\n",
            "WARNING:tensorflow:Unresolved object in checkpoint: (root).optimizer.beta_2\n",
            "WARNING:tensorflow:Unresolved object in checkpoint: (root).optimizer.decay\n",
            "WARNING:tensorflow:Unresolved object in checkpoint: (root).optimizer.learning_rate\n",
            "WARNING:tensorflow:A checkpoint was restored (e.g. tf.train.Checkpoint.restore or tf.keras.Model.load_weights) but not all checkpointed values were used. See above for specific issues. Use expect_partial() on the load status object, e.g. tf.train.Checkpoint.restore(...).expect_partial(), to silence these warnings, or use assert_consumed() to make the check explicit. See https://www.tensorflow.org/guide/checkpoint#loading_mechanics for details.\n",
            "Model: \"sequential\"\n",
            "_________________________________________________________________\n",
            "Layer (type)                 Output Shape              Param #   \n",
            "=================================================================\n",
            "conv2d (Conv2D)              (None, 26, 26, 32)        320       \n",
            "_________________________________________________________________\n",
            "conv2d_1 (Conv2D)            (None, 22, 22, 64)        51264     \n",
            "_________________________________________________________________\n",
            "flatten (Flatten)            (None, 30976)             0         \n",
            "_________________________________________________________________\n",
            "dense (Dense)                (None, 96)                2973792   \n",
            "_________________________________________________________________\n",
            "dense_1 (Dense)              (None, 10)                970       \n",
            "=================================================================\n",
            "Total params: 3,026,346\n",
            "Trainable params: 3,026,346\n",
            "Non-trainable params: 0\n",
            "_________________________________________________________________\n"
          ],
          "name": "stdout"
        }
      ]
    }
  ]
}